{
 "cells": [
  {
   "cell_type": "code",
   "execution_count": null,
   "id": "82bd1a20",
   "metadata": {},
   "outputs": [],
   "source": [
    "import torch.optim as optim\n",
    "import glob\n",
    "import json\n",
    "import argparse\n",
    "import os\n",
    "import random\n",
    "import math\n",
    "from time import gmtime, strftime\n",
    "from models import *\n",
    "from dataset_GBU import FeatDataLayer, DATA_LOADER\n",
    "from utils import *\n",
    "from sklearn.metrics.pairwise import cosine_similarity\n",
    "import torch.backends.cudnn as cudnn\n",
    "import classifier"
   ]
  },
  {
   "cell_type": "code",
   "execution_count": null,
   "id": "fb06f2b1",
   "metadata": {},
   "outputs": [],
   "source": [
    "dataset_name ='SUN'#(default) #help='dataset: CUB, AWA2, APY, FLO, SUN'\n",
    "dataroot = 'C:/Sushree/Jio_Institute/Dataset/SDGZSL_data'#(default) #help='path to dataset'\n",
    "\n",
    "workers = 1# type=int, help='number of data loading workers', default=1\n",
    "\n",
    "image_embedding ='res101'#(default) # type=str\n",
    "class_embedding ='att'#(default) #type=str\n",
    "\n",
    "gen_nepoch = 400 # type=int, default=400, help='number of epochs to train for'\n",
    "lr = 0.0001 # type=float, default=0.0001, help='learning rate to train generater'\n",
    "\n",
    "zsl = False # type=bool, default=False, help='Evaluate ZSL or GZSL'\n",
    "finetune = False # type=bool, default=False, help='Use fine-tuned feature'\n",
    "ga = 15 # type=float, default=15, help='relationNet weight')\n",
    "beta = 1 #', type=float, default=1, help='tc weight')\n",
    "weight_decay = 1e-6 #', type=float, default=1e-6, help='weight_decay')\n",
    "dis = 3#', type=float, default=3, help='Discriminator weight')\n",
    "dis_step = 2#', type=float, default=2, help='Discriminator update interval')\n",
    "kl_warmup = 0.01#', type=float, default=0.01, help='kl warm-up for VAE')\n",
    "tc_warmup = 0.001#', type=float, default=0.001, help='tc warm-up')\n",
    "\n",
    "vae_dec_drop = 0.5#', type=float, default=0.5, help='dropout rate in the VAE decoder')\n",
    "vae_enc_drop = 0.4#', type=float, default=0.4, help='dropout rate in the VAE encoder')\n",
    "ae_drop = 0.2#', type=float, default=0.2, help='dropout rate in the auto-encoder')\n",
    "\n",
    "classifier_lr = 0.001#', type=float, default=0.001, help='learning rate to train softmax classifier')\n",
    "classifier_steps = 50#', type=int, default=50, help='training steps of the classifier')\n",
    "\n",
    "batchsize = 64#', type=int, default=64, help='input batch size')\n",
    "nSample = 1200#', type=int, default=1200, help='number features to generate per class')\n",
    "\n",
    "disp_interval = 200#', type=int, default=200)\n",
    "save_interval = 10000#', type=int, default=10000)\n",
    "evl_interval = 400#',  type=int, default=400)\n",
    "evl_start = 0#',  type=int, default=0)\n",
    "manualSeed = 5606#', type=int, default=5606, help='manual seed')\n",
    "\n",
    "latent_dim = 20#', type=int, default=20, help='dimention of latent z')\n",
    "q_z_nn_output_dim = 128#', type=int, default=128, help='dimention of hidden layer in encoder')\n",
    "S_dim = 1024#', type=int, default=1024)\n",
    "NS_dim = 1024#', type=int, default=1024)\n",
    "\n",
    "#parser.add_argument('--gpu', default='0', type=str, help='index of GPU to use')\n",
    "#opt = parser.parse_args()\n",
    "\n",
    "if manualSeed is None:\n",
    "    manualSeed = random.randint(1, 10000)\n",
    "print(\"Random Seed: \", manualSeed)\n",
    "\n",
    "np.random.seed(manualSeed)\n",
    "random.seed(manualSeed)\n",
    "torch.manual_seed(manualSeed)\n",
    "torch.cuda.manual_seed_all(manualSeed)\n",
    "\n",
    "cudnn.benchmark = True\n",
    "print('Running parameters:')\n",
    "#print(json.dumps(vars(opt), indent=4, separators=(',', ': ')))\n",
    "#opt.gpu = torch.device(\"cuda:\"+opt.gpu if torch.cuda.is_available() else \"cpu\")\n"
   ]
  },
  {
   "cell_type": "code",
   "execution_count": null,
   "id": "fe7deb0b",
   "metadata": {},
   "outputs": [],
   "source": [
    "train.py --dataset AWA2 --ga 0.5 --beta 1 --dis 0.3 --nSample 5000 --gpu 1 --S_dim 1024 --NS_dim 1024 --lr 0.00003 \\\n",
    "  --classifier_lr 0.003 --kl_warmup 0.01 --tc_warmup 0.001 --vae_dec_drop 0.5 --vae_enc_drop 0.4 --dis_step 2 \\\n",
    "  --ae_drop 0.2 --gen_nepoch 220 --evl_start 40000 --evl_interval 400 --manualSeed 6152"
   ]
  },
  {
   "cell_type": "code",
   "execution_count": null,
   "id": "d2ed6ca4",
   "metadata": {},
   "outputs": [],
   "source": []
  }
 ],
 "metadata": {
  "kernelspec": {
   "display_name": "Python 3 (ipykernel)",
   "language": "python",
   "name": "python3"
  },
  "language_info": {
   "codemirror_mode": {
    "name": "ipython",
    "version": 3
   },
   "file_extension": ".py",
   "mimetype": "text/x-python",
   "name": "python",
   "nbconvert_exporter": "python",
   "pygments_lexer": "ipython3",
   "version": "3.11.3"
  }
 },
 "nbformat": 4,
 "nbformat_minor": 5
}
