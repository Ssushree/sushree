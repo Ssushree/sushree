{
 "cells": [
  {
   "cell_type": "code",
   "execution_count": 1,
   "id": "6c99a4dc",
   "metadata": {},
   "outputs": [],
   "source": [
    "import tensorflow as tf\n",
    "import os\n",
    "from tensorflow.keras.preprocessing import image\n",
    "from tensorflow.keras.utils import to_categorical\n",
    "import numpy as np\n",
    "import scipy.io as sio\n",
    "from numpy import expand_dims\n",
    "from numpy import asarray\n",
    "from PIL import Image\n",
    "from sklearn.model_selection import train_test_split\n",
    "from tensorflow.keras.utils import Sequence\n",
    "from tensorflow.keras.models import Model\n",
    "from tensorflow.keras.layers import *\n",
    "from tensorflow.keras.models import Sequential\n",
    "from skimage.filters import gabor_kernel\n",
    "from scipy import ndimage as nd        \n",
    "import matplotlib\n",
    "import matplotlib.pyplot as plt    \n",
    "from numpy.linalg import norm\n",
    "from keras.optimizers import SGD, Adam\n",
    "import graphviz\n",
    "import pydot"
   ]
  },
  {
   "cell_type": "code",
   "execution_count": 2,
   "id": "d9fa1c42",
   "metadata": {},
   "outputs": [
    {
     "name": "stdout",
     "output_type": "stream",
     "text": [
      "E:/Sushree/Dataset/Animals_with_Attributes2/JPEGImages/\n",
      "50\n"
     ]
    }
   ],
   "source": [
    "data_path = 'E:/Sushree/Dataset/'\n",
    "\n",
    "img_path = os.path.join(data_path,'Animals_with_Attributes2/JPEGImages/')\n",
    "print(img_path)\n",
    "\n",
    "print(len(os.listdir(img_path)))\n",
    "\n",
    "def get_imlist(path, option):\n",
    "    if option == 'jpg':\n",
    "        return[os.path.join(path, f) for f in os.listdir(path) if f.endswith('.jpg')]\n",
    "\n",
    "width, height, ch = 224, 224, 3\n",
    "\n"
   ]
  },
  {
   "cell_type": "code",
   "execution_count": null,
   "id": "343bffd6",
   "metadata": {},
   "outputs": [],
   "source": [
    "\n",
    "kernels = []\n",
    "for theta in range(2):\n",
    "    theta = theta / 4. * np.pi\n",
    "    for sigma in (1, 3):\n",
    "        for frequency in (0.05, 0.25):\n",
    "            kernel = gabor_kernel(frequency, theta = theta, sigma_x = sigma, sigma_y = sigma)\n",
    "            kernels.append(kernel)\n",
    "            \n",
    "def define_power(image, kernel):\n",
    "    # Normalize images for better comparison.\n",
    "    image = (image - image.mean()) / image.std()\n",
    "    #print(np.shape(image))\n",
    "    return np.sqrt(nd.convolve(image, np.real(kernel), mode='wrap')**2 + nd.convolve(image, np.imag(kernel), mode='wrap')**2)\n",
    "            \n",
    "def compute_gabor_feats(image, kernels):\n",
    "    feature = np.zeros((len(kernels), image.shape[0], image.shape[1]))\n",
    "    for k, kernel in enumerate(kernels):\n",
    "        res_pow = define_power(image, kernel)\n",
    "        feature[k] = res_pow\n",
    "        #feature = np.add(feature, res_pow)                \n",
    "    return feature  \n",
    "\n",
    "def get_imlist(path, option):\n",
    "    if option == 'jpg':\n",
    "        return[os.path.join(path, f) for f in os.listdir(path) if f.endswith('.jpg')]\n",
    "\n",
    "width, height, ch = 224, 224, 3\n",
    "\n",
    "def compute_feature_dataset(img_path, width, height, option, kernels):\n",
    "    folder_list = os.listdir(img_path)\n",
    "    num_classes = len(folder_list)\n",
    "    gabor_feature = []\n",
    "    for i in range(len(folder_list)):\n",
    "        print(i)\n",
    "        img_list = get_imlist(os.path.join(img_path, folder_list[i]), option)\n",
    "        for j in range(len(img_list)):\n",
    "            img = image.load_img(img_list[j], color_mode=\"grayscale\", target_size = (width, height))\n",
    "            img = asarray(img)\n",
    "            gabor_feat = compute_gabor_feats(img, kernels)\n",
    "            #gabor_feat = np.expand_dims(gabor_feat, axis=0)\n",
    "            gabor_feature.append(gabor_feat)\n",
    "    gabor_feature = np.array(gabor_feature, dtype = np.float32)         \n",
    "    return gabor_feature \n",
    "\n",
    "\n",
    "gabor_feature = compute_feature_dataset(img_path, width, height, 'jpg', kernels)\n",
    "print(np.shape(gabor_feature))    \n",
    "\n",
    "np.save('C:/Users/Admin/Sushree_Codes/Sush/Results/gabor_feature_8_kernels.npy', gabor_feature)\n"
   ]
  },
  {
   "cell_type": "code",
   "execution_count": 3,
   "id": "d18ae0a0",
   "metadata": {},
   "outputs": [
    {
     "name": "stdout",
     "output_type": "stream",
     "text": [
      "[21482 11452 21448 ...  7992 10388  5160] 23527\n",
      "(37322, 8, 224, 224)\n",
      "(37322, 8, 224, 224)\n",
      "[21482 11452 21448 ...  7992 10388  5160] (23527,)\n",
      "(23527, 401408)\n"
     ]
    }
   ],
   "source": [
    "\n",
    "split_path = os.path.join(data_path,'data/xlsa17/data/AWA2/att_splits.mat')\n",
    "matcontent = sio.loadmat(split_path)\n",
    "trainval_loc = matcontent['trainval_loc'].squeeze() - 1\n",
    "\n",
    "#print(matcontent)\n",
    "\n",
    "print(trainval_loc, len(trainval_loc))\n",
    "\n",
    "gabor_feature = np.load('C:/Users/Admin/Sushree_Codes/Sush/Results/gabor_feature_8_kernels.npy')\n",
    "print(gabor_feature.shape)\n",
    "\n",
    "print(np.shape(gabor_feature))\n",
    "print(trainval_loc, trainval_loc.shape)\n",
    "\n",
    "train_gabor_feature = []\n",
    "for i in range (len(trainval_loc)):\n",
    "    train_gabor_feat = gabor_feature[trainval_loc[i]]\n",
    "    train_gabor_feat = train_gabor_feat.reshape(np.prod(train_gabor_feat.shape[0:]))\n",
    "    train_gabor_feature.append(train_gabor_feat)\n",
    "\n",
    "train_gabor_feature = np.array(train_gabor_feature, dtype = np.float32) \n",
    "print(np.shape(train_gabor_feature))\n",
    "\n"
   ]
  },
  {
   "cell_type": "code",
   "execution_count": 4,
   "id": "87d0b348",
   "metadata": {},
   "outputs": [
    {
     "name": "stdout",
     "output_type": "stream",
     "text": [
      "[[ 9.6899301e-01  9.8722791e-03 -1.6094959e-01 ...  1.4629345e-02\n",
      "  -4.3485691e-03  4.5536556e-03]\n",
      " [-1.5022326e-01 -1.0419858e-01  6.6463433e-02 ...  1.3577098e-02\n",
      "  -2.2116555e-03 -4.4724456e-04]\n",
      " [ 6.1230052e-01  4.7015655e-01 -1.7734341e-01 ...  2.6094878e-02\n",
      "   1.4556493e-02 -5.9137302e-03]\n",
      " ...\n",
      " [ 6.6859767e-02 -3.9864212e-01 -2.4804704e-01 ...  2.2252318e-03\n",
      "  -2.0175776e-03  9.7561618e-03]\n",
      " [-7.0907420e-01  3.4373632e-01 -4.1183540e-01 ...  1.7656519e-03\n",
      "   2.6551452e-03  7.2244145e-03]\n",
      " [-3.1808448e-01 -6.1351520e-01 -2.0063773e-01 ...  4.4152541e-03\n",
      "  -3.2643334e-03 -9.9789612e-03]] (23527, 4096)\n"
     ]
    }
   ],
   "source": [
    "\n",
    "# performing preprocessing part\n",
    "from sklearn.preprocessing import StandardScaler\n",
    "sc = StandardScaler()\n",
    "X_t = sc.fit_transform(train_gabor_feature)\n",
    "\n",
    "from sklearn.decomposition import KernelPCA\n",
    "\n",
    "transformer = KernelPCA(n_components = 4096, kernel = 'poly')\n",
    "train_gabor_feature_transformed = transformer.fit_transform(X_t)\n",
    "print(train_gabor_feature_transformed, train_gabor_feature_transformed.shape)"
   ]
  },
  {
   "cell_type": "code",
   "execution_count": 5,
   "id": "ca60b92b",
   "metadata": {},
   "outputs": [],
   "source": [
    "np.save('C:/Users/Admin/Sushree_Codes/Sush/Results/train_gabor_feature_8_kernels_transformed_poly_4096.npy', train_gabor_feature_transformed)\n"
   ]
  },
  {
   "cell_type": "code",
   "execution_count": null,
   "id": "c47c85c5",
   "metadata": {},
   "outputs": [],
   "source": []
  },
  {
   "cell_type": "code",
   "execution_count": null,
   "id": "7bcd4886",
   "metadata": {},
   "outputs": [],
   "source": []
  }
 ],
 "metadata": {
  "kernelspec": {
   "display_name": "Python 3 (ipykernel)",
   "language": "python",
   "name": "python3"
  },
  "language_info": {
   "codemirror_mode": {
    "name": "ipython",
    "version": 3
   },
   "file_extension": ".py",
   "mimetype": "text/x-python",
   "name": "python",
   "nbconvert_exporter": "python",
   "pygments_lexer": "ipython3",
   "version": "3.9.16"
  }
 },
 "nbformat": 4,
 "nbformat_minor": 5
}
