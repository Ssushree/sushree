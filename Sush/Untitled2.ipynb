{
 "cells": [
  {
   "cell_type": "code",
   "execution_count": 1,
   "id": "db71aff2",
   "metadata": {},
   "outputs": [],
   "source": [
    "import tensorflow as tf\n",
    "import os\n",
    "from tensorflow.keras.preprocessing import image\n",
    "from tensorflow.keras.utils import to_categorical\n",
    "import numpy as np\n",
    "import scipy.io as sio\n",
    "from numpy import expand_dims\n",
    "from numpy import asarray\n",
    "from PIL import Image\n",
    "from sklearn.model_selection import train_test_split\n",
    "from tensorflow.keras.utils import Sequence\n",
    "from tensorflow.keras.models import Model\n",
    "from tensorflow.keras.layers import *\n",
    "from tensorflow.keras.models import Sequential\n",
    "from skimage.filters import gabor_kernel\n",
    "from scipy import ndimage as nd        \n",
    "import matplotlib\n",
    "import matplotlib.pyplot as plt    \n",
    "from numpy.linalg import norm\n",
    "from keras.optimizers import SGD, Adam, Adagrad\n",
    "import graphviz\n",
    "import pydot"
   ]
  },
  {
   "cell_type": "code",
   "execution_count": 2,
   "id": "1c4bb50b",
   "metadata": {},
   "outputs": [
    {
     "name": "stdout",
     "output_type": "stream",
     "text": [
      "E:/Sushree/Dataset/data/xlsa17/data/AWA2/att_splits.mat\n",
      "[[-0.00375358 -0.00375358 -0.00375358 ...  0.00882092  0.03640974\n",
      "   0.03145501]\n",
      " [ 0.12045618  0.00426584  0.         ...  0.17996306  0.0618086\n",
      "   0.03495531]\n",
      " [ 0.26584459  0.20652363  0.         ...  0.05026822  0.04274552\n",
      "   0.04915256]\n",
      " ...\n",
      " [ 0.22516498  0.15266022  0.         ...  0.12733492  0.10009694\n",
      "   0.01771   ]\n",
      " [ 0.19613947  0.1966714   0.         ...  0.01787277  0.06698743\n",
      "   0.25883601]\n",
      " [ 0.03819588  0.08046548  0.10363715 ...  0.01479997  0.05250999\n",
      "   0.14194515]] (50, 85)\n"
     ]
    }
   ],
   "source": [
    "\n",
    "split_path = 'E:/Sushree/Dataset/data/xlsa17/data/AWA2/att_splits.mat'\n",
    "print(split_path)\n",
    "matcontent = sio.loadmat(split_path)\n",
    "    \n",
    "att = matcontent['att'].T\n",
    "print(att, att.shape)  "
   ]
  },
  {
   "cell_type": "code",
   "execution_count": 3,
   "id": "a2db5290",
   "metadata": {},
   "outputs": [],
   "source": [
    "att[att<0] = 0"
   ]
  },
  {
   "cell_type": "code",
   "execution_count": 7,
   "id": "84cfc9bf",
   "metadata": {},
   "outputs": [
    {
     "name": "stdout",
     "output_type": "stream",
     "text": [
      "E:/Sushree/Dataset/data/xlsa17/data/AWA2/binaryAtt_splits.mat\n",
      "[[0 0 0 ... 0 0 0]\n",
      " [1 0 0 ... 1 0 0]\n",
      " [1 1 0 ... 0 0 0]\n",
      " ...\n",
      " [1 1 0 ... 1 1 0]\n",
      " [1 1 0 ... 0 0 1]\n",
      " [0 1 1 ... 0 0 1]] (50, 85)\n"
     ]
    }
   ],
   "source": [
    "\n",
    "split_path = 'E:/Sushree/Dataset/data/xlsa17/data/AWA2/binaryAtt_splits.mat'\n",
    "print(split_path)\n",
    "matcontent = sio.loadmat(split_path)\n",
    "    \n",
    "att = matcontent['att'].T\n",
    "print(att, att.shape) "
   ]
  },
  {
   "cell_type": "code",
   "execution_count": 9,
   "id": "5eb42804",
   "metadata": {},
   "outputs": [
    {
     "data": {
      "text/plain": [
       "<matplotlib.image.AxesImage at 0x1ec20c96280>"
      ]
     },
     "execution_count": 9,
     "metadata": {},
     "output_type": "execute_result"
    },
    {
     "data": {
      "image/png": "[encoded data removed]",
      "text/plain": [
       "<Figure size 640x480 with 1 Axes>"
      ]
     },
     "metadata": {},
     "output_type": "display_data"
    }
   ],
   "source": [
    "plt.imshow(att)"
   ]
  },
  {
   "cell_type": "code",
   "execution_count": 11,
   "id": "ae6b575c",
   "metadata": {},
   "outputs": [
    {
     "name": "stdout",
     "output_type": "stream",
     "text": [
      "[[ 0.10498047  0.01843262  0.00897217 ...  0.09228516  0.06103516\n",
      "  -0.1328125 ]\n",
      " [ 0.02697754  0.06933594  0.02416992 ...  0.06933594  0.06982422\n",
      "  -0.03369141]\n",
      " [ 0.0390625   0.08642578  0.22363281 ...  0.04663086  0.02258301\n",
      "  -0.15722656]\n",
      " ...\n",
      " [ 0.21289062  0.15039062 -0.14746094 ... -0.18652344 -0.10351562\n",
      "   0.24609375]\n",
      " [-0.04574585  0.37304688 -0.51708984 ... -0.26953125  0.06518555\n",
      "   0.38085938]\n",
      " [-0.29492188  0.15039062 -0.1484375  ...  0.11572266  0.07519531\n",
      "   0.00210571]] (85, 300)\n"
     ]
    }
   ],
   "source": [
    "import pickle\n",
    "\n",
    "attribute_path = 'E:/Sushree/Dataset/Animals_with_Attributes2/w2v/AWA2_attribute.pkl'\n",
    "\n",
    "with open(attribute_path,'rb') as f:\n",
    "    w2v_att = pickle.load(f)\n",
    "\n",
    "print(w2v_att, w2v_att.shape)"
   ]
  },
  {
   "cell_type": "code",
   "execution_count": null,
   "id": "8cb2eb0f",
   "metadata": {},
   "outputs": [],
   "source": []
  }
 ],
 "metadata": {
  "kernelspec": {
   "display_name": "Python 3 (ipykernel)",
   "language": "python",
   "name": "python3"
  },
  "language_info": {
   "codemirror_mode": {
    "name": "ipython",
    "version": 3
   },
   "file_extension": ".py",
   "mimetype": "text/x-python",
   "name": "python",
   "nbconvert_exporter": "python",
   "pygments_lexer": "ipython3",
   "version": "3.9.16"
  }
 },
 "nbformat": 4,
 "nbformat_minor": 5
}
