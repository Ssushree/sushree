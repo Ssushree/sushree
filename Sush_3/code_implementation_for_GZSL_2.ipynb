{
 "cells": [
  {
   "cell_type": "code",
   "execution_count": 1,
   "id": "ce276e1b",
   "metadata": {},
   "outputs": [],
   "source": [
    "import numpy as np\n",
    "import os\n",
    "import scipy.io\n",
    "from sklearn.metrics import classification_report,confusion_matrix"
   ]
  },
  {
   "cell_type": "markdown",
   "id": "f6e318c2",
   "metadata": {},
   "source": [
    "# From the .mat files extract all the features from resnet and the attribute splits.\n",
    "\n",
    "The res101 contains features and the corresponding labels.\n",
    "\n",
    "att_splits contains the different splits for trainval, train, val and test set."
   ]
  },
  {
   "cell_type": "code",
   "execution_count": 2,
   "id": "f19216f7",
   "metadata": {},
   "outputs": [],
   "source": [
    "#Please add the folder name of the dataset to run it on different dataset.\n",
    "dataset = 'CUB'\n",
    "path = 'E:/Sushree/Dataset/data/xlsa17/data/'\n",
    "\n",
    "res101 = scipy.io.loadmat(path + dataset + '/res101.mat')\n",
    "att_splits = scipy.io.loadmat(path + dataset + '/att_splits.mat')"
   ]
  },
  {
   "cell_type": "markdown",
   "id": "a10571ad",
   "metadata": {},
   "source": [
    "# We need the corresponding ground-truth labels/classes for each training example for all our trainval, test seen set and test unseen set according to the split locations provided."
   ]
  },
  {
   "cell_type": "code",
   "execution_count": 3,
   "id": "36599b14",
   "metadata": {
    "scrolled": true
   },
   "outputs": [
    {
     "name": "stdout",
     "output_type": "stream",
     "text": [
      "[[151]\n",
      " [151]\n",
      " [151]\n",
      " ...\n",
      " [150]\n",
      " [150]\n",
      " [150]] (11788, 1)\n",
      "[[197]\n",
      " [198]\n",
      " [ 31]\n",
      " ...\n",
      " [ 65]\n",
      " [147]\n",
      " [ 22]] (7057, 1)\n",
      "[[113]\n",
      " [107]\n",
      " [ 20]\n",
      " ...\n",
      " [136]\n",
      " [ 94]\n",
      " [180]] (1764, 1)\n",
      "[[152]\n",
      " [152]\n",
      " [152]\n",
      " ...\n",
      " [150]\n",
      " [150]\n",
      " [150]] (2967, 1)\n",
      "correct number of instances for training, test seen and test unseen categories\n"
     ]
    }
   ],
   "source": [
    "trainval_loc = np.squeeze(att_splits['trainval_loc']-1)\n",
    "test_seen_loc = np.squeeze(att_splits['test_seen_loc']-1)\n",
    "test_unseen_loc = np.squeeze(att_splits['test_unseen_loc']-1)\n",
    "\n",
    "\n",
    "labels = res101['labels']# direct class labels\n",
    "print(labels, labels.shape)\n",
    "\n",
    "labels_trainval = labels[trainval_loc]\n",
    "print(labels_trainval, labels_trainval.shape)\n",
    "\n",
    "labels_test_seen = labels[test_seen_loc]\n",
    "print(labels_test_seen, labels_test_seen.shape)\n",
    "\n",
    "labels_test_unseen = labels[test_unseen_loc]\n",
    "print(labels_test_unseen, labels_test_unseen.shape)\n",
    "\n",
    "if len(labels) == len(labels_trainval) + len(labels_test_seen) + len(labels_test_unseen):\n",
    "    print('correct number of instances for training, test seen and test unseen categories')"
   ]
  },
  {
   "cell_type": "markdown",
   "id": "31edcbc1",
   "metadata": {},
   "source": [
    "# In a typical ZSL/GZSL scenario, there are no overlapping classes between training and testing phase, i.e the train classes are completely different from the test unseen classes. \n",
    "\n",
    "During training phase and testing phase (seen) we have z classes\n",
    "\n",
    "During the testing phase (unseen) we have z' classes"
   ]
  },
  {
   "cell_type": "code",
   "execution_count": 4,
   "id": "373eca63",
   "metadata": {},
   "outputs": [
    {
     "name": "stdout",
     "output_type": "stream",
     "text": [
      "[  1   2   3   4   5   6   8   9  10  11  12  13  14  15  16  17  18  20\n",
      "  22  23  24  25  26  27  28  30  31  32  33  35  37  38  39  40  41  42\n",
      "  43  44  45  46  47  48  49  51  52  53  54  55  57  58  59  60  61  63\n",
      "  64  65  66  67  70  71  73  74  75  76  77  78  81  82  83  84  85  86\n",
      "  89  90  92  93  94  96  97  99 101 102 103 105 106 107 109 110 111 112\n",
      " 113 114 115 117 118 119 121 123 126 127 128 130 131 132 133 134 135 136\n",
      " 137 138 140 143 144 145 146 147 148 149 151 153 154 155 156 158 161 162\n",
      " 163 164 165 168 169 170 172 173 175 177 178 180 181 183 184 186 188 190\n",
      " 194 196 197 198 199 200] (150,)\n",
      "[  1   2   3   4   5   6   8   9  10  11  12  13  14  15  16  17  18  20\n",
      "  22  23  24  25  26  27  28  30  31  32  33  35  37  38  39  40  41  42\n",
      "  43  44  45  46  47  48  49  51  52  53  54  55  57  58  59  60  61  63\n",
      "  64  65  66  67  70  71  73  74  75  76  77  78  81  82  83  84  85  86\n",
      "  89  90  92  93  94  96  97  99 101 102 103 105 106 107 109 110 111 112\n",
      " 113 114 115 117 118 119 121 123 126 127 128 130 131 132 133 134 135 136\n",
      " 137 138 140 143 144 145 146 147 148 149 151 153 154 155 156 158 161 162\n",
      " 163 164 165 168 169 170 172 173 175 177 178 180 181 183 184 186 188 190\n",
      " 194 196 197 198 199 200] (150,)\n",
      "[  7  19  21  29  34  36  50  56  62  68  69  72  79  80  87  88  91  95\n",
      "  98 100 104 108 116 120 122 124 125 129 139 141 142 150 152 157 159 160\n",
      " 166 167 171 174 176 179 182 185 187 189 191 192 193 195] (50,)\n",
      "Number of overlapping classes between trainval and test seen: 150\n",
      "Number of overlapping classes between trainval and test unseen: 0\n"
     ]
    }
   ],
   "source": [
    "trainval_labels_seen = np.unique(labels_trainval)\n",
    "print(trainval_labels_seen, trainval_labels_seen.shape)\n",
    "\n",
    "test_labels_seen = np.unique(labels_test_seen)\n",
    "print(test_labels_seen, test_labels_seen.shape)\n",
    "\n",
    "test_labels_unseen = np.unique(labels_test_unseen)\n",
    "print(test_labels_unseen, test_labels_unseen.shape)\n",
    "\n",
    "print(\"Number of overlapping classes between trainval and test seen:\",len(set(trainval_labels_seen).intersection(set(test_labels_seen))))\n",
    "\n",
    "print(\"Number of overlapping classes between trainval and test unseen:\",len(set(trainval_labels_seen).intersection(set(test_labels_unseen))))\n"
   ]
  },
  {
   "cell_type": "code",
   "execution_count": 5,
   "id": "039e459d",
   "metadata": {
    "scrolled": true
   },
   "outputs": [
    {
     "name": "stdout",
     "output_type": "stream",
     "text": [
      "[[146]\n",
      " [147]\n",
      " [ 26]\n",
      " ...\n",
      " [ 55]\n",
      " [115]\n",
      " [ 18]] (7057, 1)\n",
      "[[ 90]\n",
      " [ 85]\n",
      " [ 17]\n",
      " ...\n",
      " [107]\n",
      " [ 76]\n",
      " [137]] (1764, 1)\n",
      "[[32]\n",
      " [32]\n",
      " [32]\n",
      " ...\n",
      " [31]\n",
      " [31]\n",
      " [31]] (2967, 1)\n"
     ]
    }
   ],
   "source": [
    "\n",
    "k = 0\n",
    "for labels in trainval_labels_seen:\n",
    "    labels_trainval[labels_trainval == labels] = k\n",
    "    k = k+1\n",
    "    \n",
    "print(labels_trainval, labels_trainval.shape)\n",
    "\n",
    "l = 0\n",
    "for labels in test_labels_seen:\n",
    "    labels_test_seen[labels_test_seen == labels] = l\n",
    "    l = l+1\n",
    "\n",
    "print(labels_test_seen, labels_test_seen.shape)\n",
    "\n",
    "m = 0\n",
    "for labels in test_labels_unseen:\n",
    "    labels_test_unseen[labels_test_unseen == labels] = m\n",
    "    m = m+1  \n",
    "\n",
    "print(labels_test_unseen, labels_test_unseen.shape)    "
   ]
  },
  {
   "cell_type": "code",
   "execution_count": 6,
   "id": "4827d07a",
   "metadata": {},
   "outputs": [
    {
     "name": "stdout",
     "output_type": "stream",
     "text": [
      "[  0   1   2   3   4   5   6   7   8   9  10  11  12  13  14  15  16  17\n",
      "  18  19  20  21  22  23  24  25  26  27  28  29  30  31  32  33  34  35\n",
      "  36  37  38  39  40  41  42  43  44  45  46  47  48  49  50  51  52  53\n",
      "  54  55  56  57  58  59  60  61  62  63  64  65  66  67  68  69  70  71\n",
      "  72  73  74  75  76  77  78  79  80  81  82  83  84  85  86  87  88  89\n",
      "  90  91  92  93  94  95  96  97  98  99 100 101 102 103 104 105 106 107\n",
      " 108 109 110 111 112 113 114 115 116 117 118 119 120 121 122 123 124 125\n",
      " 126 127 128 129 130 131 132 133 134 135 136 137 138 139 140 141 142 143\n",
      " 144 145 146 147 148 149] (150,)\n",
      "[  0   1   2   3   4   5   6   7   8   9  10  11  12  13  14  15  16  17\n",
      "  18  19  20  21  22  23  24  25  26  27  28  29  30  31  32  33  34  35\n",
      "  36  37  38  39  40  41  42  43  44  45  46  47  48  49  50  51  52  53\n",
      "  54  55  56  57  58  59  60  61  62  63  64  65  66  67  68  69  70  71\n",
      "  72  73  74  75  76  77  78  79  80  81  82  83  84  85  86  87  88  89\n",
      "  90  91  92  93  94  95  96  97  98  99 100 101 102 103 104 105 106 107\n",
      " 108 109 110 111 112 113 114 115 116 117 118 119 120 121 122 123 124 125\n",
      " 126 127 128 129 130 131 132 133 134 135 136 137 138 139 140 141 142 143\n",
      " 144 145 146 147 148 149] (150,)\n",
      "[ 0  1  2  3  4  5  6  7  8  9 10 11 12 13 14 15 16 17 18 19 20 21 22 23\n",
      " 24 25 26 27 28 29 30 31 32 33 34 35 36 37 38 39 40 41 42 43 44 45 46 47\n",
      " 48 49] (50,)\n"
     ]
    }
   ],
   "source": [
    "\n",
    "print(np.unique(labels_trainval), np.unique(labels_trainval).shape)\n",
    "\n",
    "print(np.unique(labels_test_seen), np.unique(labels_test_seen).shape)\n",
    "\n",
    "print(np.unique(labels_test_unseen), np.unique(labels_test_unseen).shape)"
   ]
  },
  {
   "cell_type": "markdown",
   "id": "f51a9310",
   "metadata": {},
   "source": [
    "# Let us denote the features X ∈ [d×m] available at training stage, where d is the dimensionality of the data, and m is the number of instances. We are useing resnet features which are extracted from the dataset."
   ]
  },
  {
   "cell_type": "code",
   "execution_count": 7,
   "id": "40313a4e",
   "metadata": {},
   "outputs": [
    {
     "name": "stdout",
     "output_type": "stream",
     "text": [
      "Features for trainval: (2048, 7057)\n",
      "Features for test seen: (2048, 1764)\n",
      "Features for test unseen: (2048, 2967)\n"
     ]
    }
   ],
   "source": [
    "X_features = res101['features']\n",
    "\n",
    "trainval_vec = X_features[:, trainval_loc]\n",
    "test_seen_vec = X_features[:, test_seen_loc]\n",
    "test_unseen_vec = X_features[:, test_unseen_loc]\n",
    "\n",
    "print(\"Features for trainval:\", trainval_vec.shape)\n",
    "print(\"Features for test seen:\", test_seen_vec.shape)\n",
    "print(\"Features for test unseen:\", test_unseen_vec.shape)"
   ]
  },
  {
   "cell_type": "markdown",
   "id": "3c2e9b7b",
   "metadata": {},
   "source": [
    "# Each of the classes in the dataset have an attribute (a) description. This vector is known as the Signature matrix of dimension S ∈ [0, 1]a×z. For training stage and test seen there are z classes and z' classes for test unseen S ∈ [0, 1]a×z'"
   ]
  },
  {
   "cell_type": "code",
   "execution_count": 8,
   "id": "bb4461ea",
   "metadata": {},
   "outputs": [
    {
     "name": "stdout",
     "output_type": "stream",
     "text": [
      "[[0.0106384  0.         0.         ... 0.         0.         0.04378019]\n",
      " [0.0106384  0.01133243 0.         ... 0.00334966 0.11184146 0.02814441]\n",
      " [0.00709227 0.00944369 0.00742474 ... 0.         0.         0.        ]\n",
      " ...\n",
      " [0.00918617 0.00266542 0.         ... 0.00556558 0.08207164 0.06022509]\n",
      " [0.02526198 0.02132333 0.00885258 ... 0.         0.05836206 0.07695428]\n",
      " [0.02066889 0.05863916 0.01770516 ... 0.15027069 0.01823814 0.06189801]]\n",
      "[[0.0106384  0.         0.         ... 0.         0.         0.04378019]\n",
      " [0.0106384  0.01133243 0.         ... 0.00334966 0.11184146 0.02814441]\n",
      " [0.00709227 0.00944369 0.00742474 ... 0.         0.         0.        ]\n",
      " ...\n",
      " [0.00918617 0.00266542 0.         ... 0.00556558 0.08207164 0.06022509]\n",
      " [0.02526198 0.02132333 0.00885258 ... 0.         0.05836206 0.07695428]\n",
      " [0.02066889 0.05863916 0.01770516 ... 0.15027069 0.01823814 0.06189801]]\n",
      "Signature for trainval: (312, 150)\n",
      "Signature for test seen: (312, 150)\n",
      "Signature for test unseen: (312, 50)\n"
     ]
    }
   ],
   "source": [
    "#Signature matrix\n",
    "signature = att_splits['att']\n",
    "print(signature)\n",
    "signature[signature<0]=0\n",
    "print(signature)\n",
    "trainval_sig = signature[:, (trainval_labels_seen)-1]\n",
    "test_seen_sig = signature[:, (test_labels_seen)-1]\n",
    "test_unseen_sig = signature[:, (test_labels_unseen)-1]\n",
    "\n",
    "print(\"Signature for trainval:\", trainval_sig.shape)\n",
    "print(\"Signature for test seen:\", test_seen_sig.shape)\n",
    "print(\"Signature for test unseen:\", test_unseen_sig.shape)"
   ]
  },
  {
   "cell_type": "code",
   "execution_count": 9,
   "id": "9190fef4",
   "metadata": {},
   "outputs": [
    {
     "name": "stdout",
     "output_type": "stream",
     "text": [
      "7057\n",
      "150\n",
      "1764\n",
      "150\n",
      "2967\n",
      "50\n"
     ]
    }
   ],
   "source": [
    "\n",
    "#params for trainval and test set\n",
    "m_trainval = labels_trainval.shape[0]# number of instances in training set: 23527\n",
    "print(m_trainval)\n",
    "\n",
    "z_trainval = len(trainval_labels_seen)# number of classes in training set: 40\n",
    "print(z_trainval)\n",
    "\n",
    "\n",
    "n_test_seen = labels_test_seen.shape[0]# 5882\n",
    "print(n_test_seen)\n",
    "\n",
    "z1_test_seen = len(test_labels_seen)# 40\n",
    "print(z1_test_seen)\n",
    "\n",
    "\n",
    "n_test_unseen = labels_test_unseen.shape[0]# 7913\n",
    "print(n_test_unseen)\n",
    "\n",
    "z1_test_unseen = len(test_labels_unseen)# 10\n",
    "print(z1_test_unseen)"
   ]
  },
  {
   "cell_type": "markdown",
   "id": "552cd8bb",
   "metadata": {},
   "source": [
    "# The ground truth is a one-hot encoded vector"
   ]
  },
  {
   "cell_type": "code",
   "execution_count": 10,
   "id": "57164624",
   "metadata": {},
   "outputs": [
    {
     "name": "stdout",
     "output_type": "stream",
     "text": [
      "[[0. 0. 0. ... 0. 0. 0.]\n",
      " [0. 0. 0. ... 1. 0. 0.]\n",
      " [0. 0. 0. ... 0. 0. 0.]\n",
      " ...\n",
      " [0. 0. 0. ... 0. 0. 0.]\n",
      " [0. 0. 0. ... 0. 0. 0.]\n",
      " [0. 0. 0. ... 0. 0. 0.]] (7057, 150)\n"
     ]
    }
   ],
   "source": [
    "\n",
    "#grountruth for trainval and test set\n",
    "gt_trainval = 0*np.ones((m_trainval, z_trainval))# 23527, 40\n",
    "gt_trainval[np.arange(m_trainval), np.squeeze(labels_trainval)] = 1\n",
    "\n",
    "print(gt_trainval, gt_trainval.shape)"
   ]
  },
  {
   "cell_type": "code",
   "execution_count": 11,
   "id": "113b9e72",
   "metadata": {},
   "outputs": [],
   "source": [
    "#trainval set\n",
    "d_trainval = trainval_vec.shape[0]# 2048\n",
    "a_trainval = trainval_sig.shape[0]# 85\n",
    "W = np.zeros((d_trainval, a_trainval)) # 2048, 85\n",
    "\n",
    "#Note: These hyper-parameters were found using the code snippet available below\n",
    "gamm1 = 3\n",
    "alph1 = 0"
   ]
  },
  {
   "cell_type": "code",
   "execution_count": 12,
   "id": "f932c7b7",
   "metadata": {},
   "outputs": [
    {
     "name": "stdout",
     "output_type": "stream",
     "text": [
      "(2048, 7057)\n",
      "(7057, 150)\n",
      "(312, 150)\n"
     ]
    }
   ],
   "source": [
    "print(trainval_vec.shape)# (2048, 23527)\n",
    "print(gt_trainval.shape)# (23527, 40)\n",
    "print(trainval_sig.shape)# (85, 40)"
   ]
  },
  {
   "cell_type": "markdown",
   "id": "dc9ec499",
   "metadata": {},
   "source": [
    "# The one-line code solution proposed. \n",
    "V = inverse(XX' + γI) XYS' inverse(SS' + λI)"
   ]
  },
  {
   "cell_type": "code",
   "execution_count": 13,
   "id": "b4590d04",
   "metadata": {},
   "outputs": [],
   "source": [
    "part_1_test = np.linalg.pinv(np.matmul(trainval_vec, trainval_vec.transpose()) + (10**alph1)*np.eye(d_trainval))\n",
    "\n",
    "part_0_test = np.matmul(np.matmul(trainval_vec,gt_trainval),trainval_sig.transpose())\n",
    "\n",
    "part_2_test = np.linalg.pinv(np.matmul(trainval_sig, trainval_sig.transpose()) + (10**gamm1)*np.eye(a_trainval))\n",
    "\n",
    "W = np.matmul(np.matmul(part_1_test,part_0_test),part_2_test)"
   ]
  },
  {
   "cell_type": "markdown",
   "id": "8f1f8392",
   "metadata": {},
   "source": [
    "# For inference stage,\n",
    "\n",
    "argmax(x'VS)\n",
    "\n",
    "Where S is the signature matrix of the test_set"
   ]
  },
  {
   "cell_type": "markdown",
   "id": "07138e7c",
   "metadata": {},
   "source": [
    "# For test seen classes"
   ]
  },
  {
   "cell_type": "code",
   "execution_count": 14,
   "id": "abd09a2b",
   "metadata": {},
   "outputs": [],
   "source": [
    "#predictions\n",
    "outputs_1 = np.matmul(np.matmul(test_seen_vec.transpose(), W), test_seen_sig)\n",
    "preds_1 = np.array([np.argmax(output) for output in outputs_1])"
   ]
  },
  {
   "cell_type": "code",
   "execution_count": 15,
   "id": "2fe9716f",
   "metadata": {},
   "outputs": [
    {
     "name": "stdout",
     "output_type": "stream",
     "text": [
      "The top 1% accuracy is: 57.50188482541427\n"
     ]
    }
   ],
   "source": [
    "cm = confusion_matrix(labels_test_seen, preds_1)\n",
    "cm = cm.astype('float') / cm.sum(axis=1)[:, np.newaxis]\n",
    "avg = sum(cm.diagonal())/len(test_labels_seen)\n",
    "acc_seen = avg*100\n",
    "print(\"The top 1% accuracy is:\", acc_seen)"
   ]
  },
  {
   "cell_type": "markdown",
   "id": "e1039c51",
   "metadata": {},
   "source": [
    "# For test unseen classes"
   ]
  },
  {
   "cell_type": "code",
   "execution_count": 16,
   "id": "e0f35928",
   "metadata": {},
   "outputs": [],
   "source": [
    "#predictions\n",
    "outputs_2 = np.matmul(np.matmul(test_unseen_vec.transpose(), W), test_unseen_sig)\n",
    "preds_2 = np.array([np.argmax(output) for output in outputs_2])"
   ]
  },
  {
   "cell_type": "code",
   "execution_count": 17,
   "id": "88bbb938",
   "metadata": {},
   "outputs": [
    {
     "name": "stdout",
     "output_type": "stream",
     "text": [
      "The top 1% accuracy is: 40.1153158858462\n"
     ]
    }
   ],
   "source": [
    "cm = confusion_matrix(labels_test_unseen, preds_2)\n",
    "cm = cm.astype('float') / cm.sum(axis=1)[:, np.newaxis]\n",
    "avg = sum(cm.diagonal())/len(test_labels_unseen)\n",
    "acc_unseen = avg*100\n",
    "print(\"The top 1% accuracy is:\", acc_unseen)"
   ]
  },
  {
   "cell_type": "markdown",
   "id": "7519e8eb",
   "metadata": {},
   "source": [
    "# Harmonic mean of seen and unseen accuracies"
   ]
  },
  {
   "cell_type": "code",
   "execution_count": 18,
   "id": "e56d4da7",
   "metadata": {},
   "outputs": [
    {
     "name": "stdout",
     "output_type": "stream",
     "text": [
      "47.260242190840735\n"
     ]
    }
   ],
   "source": [
    "acc_h = (2 * acc_seen * acc_unseen) / (acc_seen + acc_unseen)\n",
    "print(acc_h)"
   ]
  },
  {
   "cell_type": "markdown",
   "id": "150cf53e",
   "metadata": {},
   "source": [
    "# to find the best hyper-parameter"
   ]
  },
  {
   "cell_type": "code",
   "execution_count": null,
   "id": "77d2b791",
   "metadata": {},
   "outputs": [],
   "source": [
    "train_loc = np.squeeze(att_splits['train_loc']-1)\n",
    "val_loc = np.squeeze(att_splits['val_loc']-1)\n",
    "\n",
    "labels = res101['labels']\n",
    "labels_train = labels[train_loc]\n",
    "labels_val = labels[val_loc]\n",
    "\n",
    "train_labels_seen = np.unique(labels_train)\n",
    "val_labels_unseen = np.unique(labels_val)\n",
    "\n",
    "print(\"Number of overlapping classes between train and val:\",len(set(train_labels_seen).intersection(set(val_labels_unseen))))\n",
    "\n",
    "i = 0\n",
    "for labels in train_labels_seen:\n",
    "    labels_train[labels_train == labels] = i    \n",
    "    i = i+1\n",
    "j = 0\n",
    "for labels in val_labels_unseen:\n",
    "    labels_val[labels_val == labels] = j\n",
    "    j = j+1\n",
    "\n",
    "train_vec = X_features[:, train_loc]\n",
    "val_vec = X_features[:, val_loc]\n",
    "\n",
    "print(\"Features for train:\", train_vec.shape)\n",
    "print(\"Features for val:\", val_vec.shape)\n",
    "\n",
    "train_mean = train_vec.mean(axis=1, keepdims=True)\n",
    "train_std = np.std(train_vec, axis=1, keepdims = True)\n",
    "\n",
    "#train_vec = normalization(train_vec, train_mean, train_std)\n",
    "#val_vec = normalization(val_vec, train_mean, train_std)\n",
    "\n",
    "train_sig = signature[:,(train_labels_seen)-1]\n",
    "val_sig = signature[:,(val_labels_unseen)-1]\n",
    "\n",
    "print(\"Signature for train:\", train_sig.shape)\n",
    "print(\"Signature for val:\", val_sig.shape)\n",
    "\n",
    "#params for train and val set\n",
    "m_train = labels_train.shape[0]\n",
    "n_val = labels_val.shape[0]\n",
    "z_train = len(train_labels_seen)\n",
    "z1_val = len(val_labels_unseen)\n",
    "\n",
    "#ground truth for train and val set\n",
    "gt_train = 0*np.ones((m_train, z_train))\n",
    "gt_train[np.arange(m_train), np.squeeze(labels_train)] = 1\n",
    "\n",
    "#train set\n",
    "d_train = train_vec.shape[0]\n",
    "a_train = train_sig.shape[0]\n",
    "\n",
    "#Weights\n",
    "V = np.zeros((d_train,a_train))"
   ]
  },
  {
   "cell_type": "markdown",
   "id": "ba1a7574",
   "metadata": {},
   "source": [
    "# The below code snippet can be used to find the best hyper-parameter using the train and val set."
   ]
  },
  {
   "cell_type": "code",
   "execution_count": null,
   "id": "be610d00",
   "metadata": {},
   "outputs": [],
   "source": [
    "accu = 0.10\n",
    "alph1 = 4\n",
    "gamm1 = 1\n",
    "for alpha in range(-3, 4):\n",
    "    for gamma in range(-3,4):\n",
    "        #One line solution\n",
    "        part_1 = np.linalg.pinv(np.matmul(train_vec, train_vec.transpose()) + (10**alpha)*np.eye(d_train))\n",
    "        part_0 = np.matmul(np.matmul(train_vec,gt_train),train_sig.transpose())\n",
    "        part_2 = np.linalg.pinv(np.matmul(train_sig, train_sig.transpose()) + (10**gamma)*np.eye(a_train))\n",
    "\n",
    "        V = np.matmul(np.matmul(part_1,part_0),part_2)\n",
    "        #print(V)\n",
    "\n",
    "        #predictions\n",
    "        outputs = np.matmul(np.matmul(val_vec.transpose(),V),val_sig)\n",
    "        preds = np.array([np.argmax(output) for output in outputs])\n",
    "\n",
    "        #print(accuracy_score(labels_val,preds))\n",
    "        cm = confusion_matrix(labels_val, preds)\n",
    "        cm = cm.astype('float') / cm.sum(axis=1)[:, np.newaxis]\n",
    "        avg = sum(cm.diagonal())/len(val_labels_unseen)\n",
    "        #print(\"Avg:\", avg, alpha, gamma)\n",
    "\n",
    "        if avg > accu:\n",
    "            accu = avg\n",
    "            alph1 = alpha\n",
    "            gamm1 = gamma\n",
    "print(alph1, gamm1)\n"
   ]
  },
  {
   "cell_type": "markdown",
   "id": "562fab6c",
   "metadata": {},
   "source": [
    "# Implementation Results\n",
    "\n",
    "AWA2 dataset\n",
    "\n",
    "1. Hyperparameters: gamm1 = 3                alph1 = 0\n",
    "without normalization of feature vectors\n",
    "\n",
    "acc_seen = 88.59876114732992           acc_unseen = 45.73846664538193               harmonic mean = 60.331325100921305\n",
    "\n",
    "\n",
    "2. convert negative values of att as 0\n",
    "acc_seen = 88.59876114732992\n",
    "acc_unseen = 45.73846664538193\n",
    "harmonic mean = 60.331325100921305\n",
    "\n",
    "CUB dataset\n",
    "\n",
    "1. Hyperparameters: gamm1 = 3                alph1 = 0\n",
    "without normalization of feature vectors\n",
    "\n",
    "acc_seen = 57.50188482541427           acc_unseen = 40.1153158858462                harmonic mean = 47.260242190840735\n",
    "\n",
    "\n",
    "2. convert negative values of att as 0\n",
    "acc_seen = 57.50188482541427\n",
    "acc_unseen = 40.1153158858462\n",
    "harmonic mean = 47.260242190840735\n"
   ]
  }
 ],
 "metadata": {
  "kernelspec": {
   "display_name": "Python 3 (ipykernel)",
   "language": "python",
   "name": "python3"
  },
  "language_info": {
   "codemirror_mode": {
    "name": "ipython",
    "version": 3
   },
   "file_extension": ".py",
   "mimetype": "text/x-python",
   "name": "python",
   "nbconvert_exporter": "python",
   "pygments_lexer": "ipython3",
   "version": "3.9.18"
  }
 },
 "nbformat": 4,
 "nbformat_minor": 5
}
