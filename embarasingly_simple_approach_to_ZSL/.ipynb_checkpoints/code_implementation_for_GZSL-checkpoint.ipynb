{
 "cells": [
  {
   "cell_type": "code",
   "execution_count": 1,
   "id": "ce276e1b",
   "metadata": {},
   "outputs": [],
   "source": [
    "import numpy as np\n",
    "import os\n",
    "import scipy.io\n",
    "from sklearn.metrics import classification_report,confusion_matrix"
   ]
  },
  {
   "cell_type": "markdown",
   "id": "f6e318c2",
   "metadata": {},
   "source": [
    "# From the .mat files extract all the features from resnet and the attribute splits.\n",
    "\n",
    "The res101 contains features and the corresponding labels.\n",
    "\n",
    "att_splits contains the different splits for trainval, train, val and test set."
   ]
  },
  {
   "cell_type": "code",
   "execution_count": 2,
   "id": "f19216f7",
   "metadata": {},
   "outputs": [],
   "source": [
    "#Please add the folder name of the dataset to run it on different dataset.\n",
    "dataset = 'SUN'\n",
    "path = 'E:/Sushree/Dataset/data/xlsa17/data/'\n",
    "\n",
    "res101 = scipy.io.loadmat(path + dataset + '/res101.mat')\n",
    "att_splits = scipy.io.loadmat(path + dataset + '/att_splits.mat')"
   ]
  },
  {
   "cell_type": "markdown",
   "id": "a10571ad",
   "metadata": {},
   "source": [
    "# We need the corresponding ground-truth labels/classes for each training example for all our trainval, test seen set and test unseen set according to the split locations provided."
   ]
  },
  {
   "cell_type": "code",
   "execution_count": 3,
   "id": "36599b14",
   "metadata": {
    "scrolled": true
   },
   "outputs": [
    {
     "name": "stdout",
     "output_type": "stream",
     "text": [
      "[[  1]\n",
      " [  1]\n",
      " [  1]\n",
      " ...\n",
      " [717]\n",
      " [717]\n",
      " [717]] (14340, 1)\n",
      "[[50]\n",
      " [50]\n",
      " [50]\n",
      " ...\n",
      " [70]\n",
      " [70]\n",
      " [70]] (10320, 1)\n",
      "[[50]\n",
      " [50]\n",
      " [50]\n",
      " ...\n",
      " [70]\n",
      " [70]\n",
      " [70]] (2580, 1)\n",
      "[[  4]\n",
      " [  4]\n",
      " [  4]\n",
      " ...\n",
      " [716]\n",
      " [716]\n",
      " [716]] (1440, 1)\n",
      "correct number of instances for training, test seen and test unseen categories\n"
     ]
    }
   ],
   "source": [
    "trainval_loc = np.squeeze(att_splits['trainval_loc']-1)\n",
    "test_seen_loc = np.squeeze(att_splits['test_seen_loc']-1)\n",
    "test_unseen_loc = np.squeeze(att_splits['test_unseen_loc']-1)\n",
    "\n",
    "\n",
    "labels = res101['labels']# direct class labels\n",
    "print(labels, labels.shape)\n",
    "\n",
    "labels_trainval = labels[trainval_loc]\n",
    "print(labels_trainval, labels_trainval.shape)\n",
    "\n",
    "labels_test_seen = labels[test_seen_loc]\n",
    "print(labels_test_seen, labels_test_seen.shape)\n",
    "\n",
    "labels_test_unseen = labels[test_unseen_loc]\n",
    "print(labels_test_unseen, labels_test_unseen.shape)\n",
    "\n",
    "if len(labels) == len(labels_trainval) + len(labels_test_seen) + len(labels_test_unseen):\n",
    "    print('correct number of instances for training, test seen and test unseen categories')"
   ]
  },
  {
   "cell_type": "markdown",
   "id": "31edcbc1",
   "metadata": {},
   "source": [
    "# In a typical ZSL/GZSL scenario, there are no overlapping classes between training and testing phase, i.e the train classes are completely different from the test unseen classes. \n",
    "\n",
    "During training phase and testing phase (seen) we have z classes\n",
    "\n",
    "During the testing phase (unseen) we have z' classes"
   ]
  },
  {
   "cell_type": "code",
   "execution_count": 4,
   "id": "373eca63",
   "metadata": {
    "scrolled": true
   },
   "outputs": [
    {
     "name": "stdout",
     "output_type": "stream",
     "text": [
      "[  1   2   3   5   6   7   8   9  10  12  13  14  15  16  17  18  19  20\n",
      "  21  22  23  26  27  28  29  30  31  32  34  35  36  37  38  40  41  42\n",
      "  43  44  45  46  47  48  49  50  51  52  53  55  56  57  59  60  61  62\n",
      "  63  64  65  66  67  68  69  70  71  72  74  77  78  79  80  81  82  83\n",
      "  84  85  87  88  89  90  91  92  93  94  95  97  98  99 101 102 103 105\n",
      " 106 107 108 109 110 111 112 114 115 116 117 118 119 120 121 122 123 124\n",
      " 126 127 128 129 130 132 133 134 135 136 137 138 140 141 142 143 144 145\n",
      " 147 148 149 150 151 152 154 155 156 157 158 160 161 162 163 164 165 166\n",
      " 167 168 169 170 171 172 173 174 175 176 177 178 179 180 181 182 183 184\n",
      " 186 187 188 189 190 191 192 193 194 195 196 198 199 200 201 202 203 204\n",
      " 205 206 207 208 209 210 211 212 213 214 215 216 218 219 220 221 223 224\n",
      " 225 226 227 228 229 230 231 232 233 234 235 236 237 239 240 241 242 243\n",
      " 244 245 248 249 250 251 252 253 254 256 257 258 259 261 262 264 265 266\n",
      " 267 268 269 270 271 272 273 274 275 276 277 278 279 280 281 282 283 284\n",
      " 285 286 288 289 290 291 292 293 294 295 296 297 298 300 301 302 303 304\n",
      " 305 306 307 308 309 310 311 312 313 314 315 317 318 319 320 321 322 323\n",
      " 324 325 326 327 328 330 331 332 333 334 335 336 338 339 340 341 342 344\n",
      " 345 346 347 348 349 350 351 352 353 355 356 357 358 360 361 362 363 364\n",
      " 365 366 367 368 369 370 371 372 373 374 375 376 377 378 379 381 383 384\n",
      " 385 386 387 388 389 390 391 392 393 394 395 396 397 398 399 400 401 402\n",
      " 403 404 405 406 407 408 409 410 411 412 413 414 415 416 417 418 419 420\n",
      " 422 423 425 427 428 429 430 431 432 433 434 435 436 437 438 439 440 442\n",
      " 443 444 445 446 447 448 450 451 452 453 454 455 456 457 458 459 460 461\n",
      " 462 463 464 465 466 467 468 469 470 471 473 474 475 476 477 478 479 480\n",
      " 481 482 484 485 486 487 488 489 490 491 492 493 495 496 497 498 499 500\n",
      " 501 502 503 504 505 506 507 508 511 512 513 514 515 516 517 519 520 521\n",
      " 522 523 524 525 526 527 528 529 531 532 533 534 535 536 537 538 539 540\n",
      " 541 542 543 544 545 546 547 548 549 550 551 552 553 554 555 556 557 558\n",
      " 560 562 563 564 565 566 567 568 569 570 571 572 573 574 575 576 577 578\n",
      " 579 580 582 583 584 585 586 587 588 589 590 591 592 593 594 595 596 597\n",
      " 598 599 600 601 602 603 604 605 606 607 608 609 610 611 612 613 614 615\n",
      " 616 617 618 619 620 621 622 624 625 626 627 628 629 630 631 633 634 635\n",
      " 637 638 639 640 641 642 643 644 645 647 648 649 650 652 653 654 655 656\n",
      " 658 660 661 662 663 664 665 666 667 668 669 670 671 672 673 674 676 677\n",
      " 678 679 681 683 684 685 686 687 688 689 690 691 692 693 694 695 697 698\n",
      " 699 700 701 702 703 704 705 706 707 708 709 710 714 715 717] (645,)\n",
      "[  1   2   3   5   6   7   8   9  10  12  13  14  15  16  17  18  19  20\n",
      "  21  22  23  26  27  28  29  30  31  32  34  35  36  37  38  40  41  42\n",
      "  43  44  45  46  47  48  49  50  51  52  53  55  56  57  59  60  61  62\n",
      "  63  64  65  66  67  68  69  70  71  72  74  77  78  79  80  81  82  83\n",
      "  84  85  87  88  89  90  91  92  93  94  95  97  98  99 101 102 103 105\n",
      " 106 107 108 109 110 111 112 114 115 116 117 118 119 120 121 122 123 124\n",
      " 126 127 128 129 130 132 133 134 135 136 137 138 140 141 142 143 144 145\n",
      " 147 148 149 150 151 152 154 155 156 157 158 160 161 162 163 164 165 166\n",
      " 167 168 169 170 171 172 173 174 175 176 177 178 179 180 181 182 183 184\n",
      " 186 187 188 189 190 191 192 193 194 195 196 198 199 200 201 202 203 204\n",
      " 205 206 207 208 209 210 211 212 213 214 215 216 218 219 220 221 223 224\n",
      " 225 226 227 228 229 230 231 232 233 234 235 236 237 239 240 241 242 243\n",
      " 244 245 248 249 250 251 252 253 254 256 257 258 259 261 262 264 265 266\n",
      " 267 268 269 270 271 272 273 274 275 276 277 278 279 280 281 282 283 284\n",
      " 285 286 288 289 290 291 292 293 294 295 296 297 298 300 301 302 303 304\n",
      " 305 306 307 308 309 310 311 312 313 314 315 317 318 319 320 321 322 323\n",
      " 324 325 326 327 328 330 331 332 333 334 335 336 338 339 340 341 342 344\n",
      " 345 346 347 348 349 350 351 352 353 355 356 357 358 360 361 362 363 364\n",
      " 365 366 367 368 369 370 371 372 373 374 375 376 377 378 379 381 383 384\n",
      " 385 386 387 388 389 390 391 392 393 394 395 396 397 398 399 400 401 402\n",
      " 403 404 405 406 407 408 409 410 411 412 413 414 415 416 417 418 419 420\n",
      " 422 423 425 427 428 429 430 431 432 433 434 435 436 437 438 439 440 442\n",
      " 443 444 445 446 447 448 450 451 452 453 454 455 456 457 458 459 460 461\n",
      " 462 463 464 465 466 467 468 469 470 471 473 474 475 476 477 478 479 480\n",
      " 481 482 484 485 486 487 488 489 490 491 492 493 495 496 497 498 499 500\n",
      " 501 502 503 504 505 506 507 508 511 512 513 514 515 516 517 519 520 521\n",
      " 522 523 524 525 526 527 528 529 531 532 533 534 535 536 537 538 539 540\n",
      " 541 542 543 544 545 546 547 548 549 550 551 552 553 554 555 556 557 558\n",
      " 560 562 563 564 565 566 567 568 569 570 571 572 573 574 575 576 577 578\n",
      " 579 580 582 583 584 585 586 587 588 589 590 591 592 593 594 595 596 597\n",
      " 598 599 600 601 602 603 604 605 606 607 608 609 610 611 612 613 614 615\n",
      " 616 617 618 619 620 621 622 624 625 626 627 628 629 630 631 633 634 635\n",
      " 637 638 639 640 641 642 643 644 645 647 648 649 650 652 653 654 655 656\n",
      " 658 660 661 662 663 664 665 666 667 668 669 670 671 672 673 674 676 677\n",
      " 678 679 681 683 684 685 686 687 688 689 690 691 692 693 694 695 697 698\n",
      " 699 700 701 702 703 704 705 706 707 708 709 710 714 715 717] (645,)\n",
      "[  4  11  24  25  33  39  54  58  73  75  76  86  96 100 104 113 125 131\n",
      " 139 146 153 159 185 197 217 222 238 246 247 255 260 263 287 299 316 329\n",
      " 337 343 354 359 380 382 421 424 426 441 449 472 483 494 509 510 518 530\n",
      " 559 561 581 623 632 636 646 651 657 659 675 680 682 696 711 712 713 716] (72,)\n",
      "Number of overlapping classes between trainval and test seen: 645\n",
      "Number of overlapping classes between trainval and test unseen: 0\n"
     ]
    }
   ],
   "source": [
    "trainval_labels_seen = np.unique(labels_trainval)\n",
    "print(trainval_labels_seen, trainval_labels_seen.shape)\n",
    "\n",
    "test_labels_seen = np.unique(labels_test_seen)\n",
    "print(test_labels_seen, test_labels_seen.shape)\n",
    "\n",
    "test_labels_unseen = np.unique(labels_test_unseen)\n",
    "print(test_labels_unseen, test_labels_unseen.shape)\n",
    "\n",
    "print(\"Number of overlapping classes between trainval and test seen:\",len(set(trainval_labels_seen).intersection(set(test_labels_seen))))\n",
    "\n",
    "print(\"Number of overlapping classes between trainval and test unseen:\",len(set(trainval_labels_seen).intersection(set(test_labels_unseen))))\n"
   ]
  },
  {
   "cell_type": "code",
   "execution_count": 5,
   "id": "039e459d",
   "metadata": {
    "scrolled": true
   },
   "outputs": [
    {
     "name": "stdout",
     "output_type": "stream",
     "text": [
      "[[43]\n",
      " [43]\n",
      " [43]\n",
      " ...\n",
      " [61]\n",
      " [61]\n",
      " [61]] (10320, 1)\n",
      "[[43]\n",
      " [43]\n",
      " [43]\n",
      " ...\n",
      " [61]\n",
      " [61]\n",
      " [61]] (2580, 1)\n",
      "[[ 0]\n",
      " [ 0]\n",
      " [ 0]\n",
      " ...\n",
      " [71]\n",
      " [71]\n",
      " [71]] (1440, 1)\n"
     ]
    }
   ],
   "source": [
    "\n",
    "k = 0\n",
    "for labels in trainval_labels_seen:\n",
    "    labels_trainval[labels_trainval == labels] = k\n",
    "    k = k+1\n",
    "    \n",
    "print(labels_trainval, labels_trainval.shape)\n",
    "\n",
    "l = 0\n",
    "for labels in test_labels_seen:\n",
    "    labels_test_seen[labels_test_seen == labels] = l\n",
    "    l = l+1\n",
    "\n",
    "print(labels_test_seen, labels_test_seen.shape)\n",
    "\n",
    "m = 0\n",
    "for labels in test_labels_unseen:\n",
    "    labels_test_unseen[labels_test_unseen == labels] = m\n",
    "    m = m+1  \n",
    "\n",
    "print(labels_test_unseen, labels_test_unseen.shape)    "
   ]
  },
  {
   "cell_type": "code",
   "execution_count": 6,
   "id": "4827d07a",
   "metadata": {
    "scrolled": true
   },
   "outputs": [
    {
     "name": "stdout",
     "output_type": "stream",
     "text": [
      "[  0   1   2   3   4   5   6   7   8   9  10  11  12  13  14  15  16  17\n",
      "  18  19  20  21  22  23  24  25  26  27  28  29  30  31  32  33  34  35\n",
      "  36  37  38  39  40  41  42  43  44  45  46  47  48  49  50  51  52  53\n",
      "  54  55  56  57  58  59  60  61  62  63  64  65  66  67  68  69  70  71\n",
      "  72  73  74  75  76  77  78  79  80  81  82  83  84  85  86  87  88  89\n",
      "  90  91  92  93  94  95  96  97  98  99 100 101 102 103 104 105 106 107\n",
      " 108 109 110 111 112 113 114 115 116 117 118 119 120 121 122 123 124 125\n",
      " 126 127 128 129 130 131 132 133 134 135 136 137 138 139 140 141 142 143\n",
      " 144 145 146 147 148 149 150 151 152 153 154 155 156 157 158 159 160 161\n",
      " 162 163 164 165 166 167 168 169 170 171 172 173 174 175 176 177 178 179\n",
      " 180 181 182 183 184 185 186 187 188 189 190 191 192 193 194 195 196 197\n",
      " 198 199 200 201 202 203 204 205 206 207 208 209 210 211 212 213 214 215\n",
      " 216 217 218 219 220 221 222 223 224 225 226 227 228 229 230 231 232 233\n",
      " 234 235 236 237 238 239 240 241 242 243 244 245 246 247 248 249 250 251\n",
      " 252 253 254 255 256 257 258 259 260 261 262 263 264 265 266 267 268 269\n",
      " 270 271 272 273 274 275 276 277 278 279 280 281 282 283 284 285 286 287\n",
      " 288 289 290 291 292 293 294 295 296 297 298 299 300 301 302 303 304 305\n",
      " 306 307 308 309 310 311 312 313 314 315 316 317 318 319 320 321 322 323\n",
      " 324 325 326 327 328 329 330 331 332 333 334 335 336 337 338 339 340 341\n",
      " 342 343 344 345 346 347 348 349 350 351 352 353 354 355 356 357 358 359\n",
      " 360 361 362 363 364 365 366 367 368 369 370 371 372 373 374 375 376 377\n",
      " 378 379 380 381 382 383 384 385 386 387 388 389 390 391 392 393 394 395\n",
      " 396 397 398 399 400 401 402 403 404 405 406 407 408 409 410 411 412 413\n",
      " 414 415 416 417 418 419 420 421 422 423 424 425 426 427 428 429 430 431\n",
      " 432 433 434 435 436 437 438 439 440 441 442 443 444 445 446 447 448 449\n",
      " 450 451 452 453 454 455 456 457 458 459 460 461 462 463 464 465 466 467\n",
      " 468 469 470 471 472 473 474 475 476 477 478 479 480 481 482 483 484 485\n",
      " 486 487 488 489 490 491 492 493 494 495 496 497 498 499 500 501 502 503\n",
      " 504 505 506 507 508 509 510 511 512 513 514 515 516 517 518 519 520 521\n",
      " 522 523 524 525 526 527 528 529 530 531 532 533 534 535 536 537 538 539\n",
      " 540 541 542 543 544 545 546 547 548 549 550 551 552 553 554 555 556 557\n",
      " 558 559 560 561 562 563 564 565 566 567 568 569 570 571 572 573 574 575\n",
      " 576 577 578 579 580 581 582 583 584 585 586 587 588 589 590 591 592 593\n",
      " 594 595 596 597 598 599 600 601 602 603 604 605 606 607 608 609 610 611\n",
      " 612 613 614 615 616 617 618 619 620 621 622 623 624 625 626 627 628 629\n",
      " 630 631 632 633 634 635 636 637 638 639 640 641 642 643 644] (645,)\n",
      "[  0   1   2   3   4   5   6   7   8   9  10  11  12  13  14  15  16  17\n",
      "  18  19  20  21  22  23  24  25  26  27  28  29  30  31  32  33  34  35\n",
      "  36  37  38  39  40  41  42  43  44  45  46  47  48  49  50  51  52  53\n",
      "  54  55  56  57  58  59  60  61  62  63  64  65  66  67  68  69  70  71\n",
      "  72  73  74  75  76  77  78  79  80  81  82  83  84  85  86  87  88  89\n",
      "  90  91  92  93  94  95  96  97  98  99 100 101 102 103 104 105 106 107\n",
      " 108 109 110 111 112 113 114 115 116 117 118 119 120 121 122 123 124 125\n",
      " 126 127 128 129 130 131 132 133 134 135 136 137 138 139 140 141 142 143\n",
      " 144 145 146 147 148 149 150 151 152 153 154 155 156 157 158 159 160 161\n",
      " 162 163 164 165 166 167 168 169 170 171 172 173 174 175 176 177 178 179\n",
      " 180 181 182 183 184 185 186 187 188 189 190 191 192 193 194 195 196 197\n",
      " 198 199 200 201 202 203 204 205 206 207 208 209 210 211 212 213 214 215\n",
      " 216 217 218 219 220 221 222 223 224 225 226 227 228 229 230 231 232 233\n",
      " 234 235 236 237 238 239 240 241 242 243 244 245 246 247 248 249 250 251\n",
      " 252 253 254 255 256 257 258 259 260 261 262 263 264 265 266 267 268 269\n",
      " 270 271 272 273 274 275 276 277 278 279 280 281 282 283 284 285 286 287\n",
      " 288 289 290 291 292 293 294 295 296 297 298 299 300 301 302 303 304 305\n",
      " 306 307 308 309 310 311 312 313 314 315 316 317 318 319 320 321 322 323\n",
      " 324 325 326 327 328 329 330 331 332 333 334 335 336 337 338 339 340 341\n",
      " 342 343 344 345 346 347 348 349 350 351 352 353 354 355 356 357 358 359\n",
      " 360 361 362 363 364 365 366 367 368 369 370 371 372 373 374 375 376 377\n",
      " 378 379 380 381 382 383 384 385 386 387 388 389 390 391 392 393 394 395\n",
      " 396 397 398 399 400 401 402 403 404 405 406 407 408 409 410 411 412 413\n",
      " 414 415 416 417 418 419 420 421 422 423 424 425 426 427 428 429 430 431\n",
      " 432 433 434 435 436 437 438 439 440 441 442 443 444 445 446 447 448 449\n",
      " 450 451 452 453 454 455 456 457 458 459 460 461 462 463 464 465 466 467\n",
      " 468 469 470 471 472 473 474 475 476 477 478 479 480 481 482 483 484 485\n",
      " 486 487 488 489 490 491 492 493 494 495 496 497 498 499 500 501 502 503\n",
      " 504 505 506 507 508 509 510 511 512 513 514 515 516 517 518 519 520 521\n",
      " 522 523 524 525 526 527 528 529 530 531 532 533 534 535 536 537 538 539\n",
      " 540 541 542 543 544 545 546 547 548 549 550 551 552 553 554 555 556 557\n",
      " 558 559 560 561 562 563 564 565 566 567 568 569 570 571 572 573 574 575\n",
      " 576 577 578 579 580 581 582 583 584 585 586 587 588 589 590 591 592 593\n",
      " 594 595 596 597 598 599 600 601 602 603 604 605 606 607 608 609 610 611\n",
      " 612 613 614 615 616 617 618 619 620 621 622 623 624 625 626 627 628 629\n",
      " 630 631 632 633 634 635 636 637 638 639 640 641 642 643 644] (645,)\n",
      "[ 0  1  2  3  4  5  6  7  8  9 10 11 12 13 14 15 16 17 18 19 20 21 22 23\n",
      " 24 25 26 27 28 29 30 31 32 33 34 35 36 37 38 39 40 41 42 43 44 45 46 47\n",
      " 48 49 50 51 52 53 54 55 56 57 58 59 60 61 62 63 64 65 66 67 68 69 70 71] (72,)\n"
     ]
    }
   ],
   "source": [
    "\n",
    "print(np.unique(labels_trainval), np.unique(labels_trainval).shape)\n",
    "\n",
    "print(np.unique(labels_test_seen), np.unique(labels_test_seen).shape)\n",
    "\n",
    "print(np.unique(labels_test_unseen), np.unique(labels_test_unseen).shape)"
   ]
  },
  {
   "cell_type": "markdown",
   "id": "f51a9310",
   "metadata": {},
   "source": [
    "# Let us denote the features X ∈ [d×m] available at training stage, where d is the dimensionality of the data, and m is the number of instances. We are useing resnet features which are extracted from the dataset."
   ]
  },
  {
   "cell_type": "code",
   "execution_count": 7,
   "id": "40313a4e",
   "metadata": {},
   "outputs": [
    {
     "name": "stdout",
     "output_type": "stream",
     "text": [
      "Features for trainval: (2048, 10320)\n",
      "Features for test seen: (2048, 2580)\n",
      "Features for test unseen: (2048, 1440)\n"
     ]
    }
   ],
   "source": [
    "X_features = res101['features']\n",
    "\n",
    "trainval_vec = X_features[:, trainval_loc]\n",
    "test_seen_vec = X_features[:, test_seen_loc]\n",
    "test_unseen_vec = X_features[:, test_unseen_loc]\n",
    "\n",
    "print(\"Features for trainval:\", trainval_vec.shape)\n",
    "print(\"Features for test seen:\", test_seen_vec.shape)\n",
    "print(\"Features for test unseen:\", test_unseen_vec.shape)"
   ]
  },
  {
   "cell_type": "markdown",
   "id": "0917b0b8",
   "metadata": {},
   "source": [
    "# Normalize the vectors"
   ]
  },
  {
   "cell_type": "code",
   "execution_count": 8,
   "id": "fc78dd45",
   "metadata": {},
   "outputs": [],
   "source": [
    "def normalization(vec,mean,std):\n",
    "    sol = vec - mean\n",
    "    sol1 = sol/std\n",
    "    return sol1"
   ]
  },
  {
   "cell_type": "code",
   "execution_count": 9,
   "id": "93267398",
   "metadata": {},
   "outputs": [],
   "source": [
    "\n",
    "trainval_mean = trainval_vec.mean(axis=1, keepdims = True)\n",
    "trainval_std = np.std(trainval_vec, axis=1, keepdims=True)\n",
    "\n",
    "trainval_vec = normalization(trainval_vec, trainval_mean, trainval_std)\n",
    "test_seen_vec = normalization(test_seen_vec, trainval_mean, trainval_std)\n",
    "test_unseen_vec = normalization(test_unseen_vec, trainval_mean, trainval_std)"
   ]
  },
  {
   "cell_type": "markdown",
   "id": "3c2e9b7b",
   "metadata": {},
   "source": [
    "# Each of the classes in the dataset have an attribute (a) description. This vector is known as the Signature matrix of dimension S ∈ [0, 1]a×z. For training stage and test seen there are z classes and z' classes for test unseen S ∈ [0, 1]a×z'"
   ]
  },
  {
   "cell_type": "code",
   "execution_count": 8,
   "id": "bb4461ea",
   "metadata": {},
   "outputs": [
    {
     "name": "stdout",
     "output_type": "stream",
     "text": [
      "Signature for trainval: (102, 645)\n",
      "Signature for test seen: (102, 645)\n",
      "Signature for test unseen: (102, 72)\n"
     ]
    }
   ],
   "source": [
    "#Signature matrix\n",
    "signature = att_splits['att']\n",
    "trainval_sig = signature[:, (trainval_labels_seen)-1]\n",
    "test_seen_sig = signature[:, (test_labels_seen)-1]\n",
    "test_unseen_sig = signature[:, (test_labels_unseen)-1]\n",
    "\n",
    "print(\"Signature for trainval:\", trainval_sig.shape)\n",
    "print(\"Signature for test seen:\", test_seen_sig.shape)\n",
    "print(\"Signature for test unseen:\", test_unseen_sig.shape)"
   ]
  },
  {
   "cell_type": "code",
   "execution_count": 9,
   "id": "9190fef4",
   "metadata": {},
   "outputs": [
    {
     "name": "stdout",
     "output_type": "stream",
     "text": [
      "10320\n",
      "645\n",
      "2580\n",
      "645\n",
      "1440\n",
      "72\n"
     ]
    }
   ],
   "source": [
    "\n",
    "#params for trainval and test set\n",
    "m_trainval = labels_trainval.shape[0]# number of instances in training set: 23527\n",
    "print(m_trainval)\n",
    "\n",
    "z_trainval = len(trainval_labels_seen)# number of classes in training set: 40\n",
    "print(z_trainval)\n",
    "\n",
    "\n",
    "n_test_seen = labels_test_seen.shape[0]# 5882\n",
    "print(n_test_seen)\n",
    "\n",
    "z1_test_seen = len(test_labels_seen)# 40\n",
    "print(z1_test_seen)\n",
    "\n",
    "\n",
    "n_test_unseen = labels_test_unseen.shape[0]# 7913\n",
    "print(n_test_unseen)\n",
    "\n",
    "z1_test_unseen = len(test_labels_unseen)# 10\n",
    "print(z1_test_unseen)"
   ]
  },
  {
   "cell_type": "markdown",
   "id": "552cd8bb",
   "metadata": {},
   "source": [
    "# The ground truth is a one-hot encoded vector"
   ]
  },
  {
   "cell_type": "code",
   "execution_count": 10,
   "id": "57164624",
   "metadata": {},
   "outputs": [
    {
     "name": "stdout",
     "output_type": "stream",
     "text": [
      "[[0. 0. 0. ... 0. 0. 0.]\n",
      " [0. 0. 0. ... 0. 0. 0.]\n",
      " [0. 0. 0. ... 0. 0. 0.]\n",
      " ...\n",
      " [0. 0. 0. ... 0. 0. 0.]\n",
      " [0. 0. 0. ... 0. 0. 0.]\n",
      " [0. 0. 0. ... 0. 0. 0.]] (10320, 645)\n"
     ]
    }
   ],
   "source": [
    "\n",
    "#grountruth for trainval and test set\n",
    "gt_trainval = 0*np.ones((m_trainval, z_trainval))# 23527, 40\n",
    "gt_trainval[np.arange(m_trainval), np.squeeze(labels_trainval)] = 1\n",
    "\n",
    "print(gt_trainval, gt_trainval.shape)"
   ]
  },
  {
   "cell_type": "code",
   "execution_count": 11,
   "id": "113b9e72",
   "metadata": {},
   "outputs": [],
   "source": [
    "#trainval set\n",
    "d_trainval = trainval_vec.shape[0]# 2048\n",
    "a_trainval = trainval_sig.shape[0]# 85\n",
    "W = np.zeros((d_trainval, a_trainval)) # 2048, 85\n",
    "\n",
    "#Note: These hyper-parameters were found using the code snippet available below\n",
    "gamm1 = 3\n",
    "alph1 = 0"
   ]
  },
  {
   "cell_type": "code",
   "execution_count": 12,
   "id": "f932c7b7",
   "metadata": {},
   "outputs": [
    {
     "name": "stdout",
     "output_type": "stream",
     "text": [
      "(2048, 10320)\n",
      "(10320, 645)\n",
      "(102, 645)\n"
     ]
    }
   ],
   "source": [
    "print(trainval_vec.shape)# (2048, 23527)\n",
    "print(gt_trainval.shape)# (23527, 40)\n",
    "print(trainval_sig.shape)# (85, 40)"
   ]
  },
  {
   "cell_type": "markdown",
   "id": "dc9ec499",
   "metadata": {},
   "source": [
    "# The one-line code solution proposed. \n",
    "V = inverse(XX' + γI) XYS' inverse(SS' + λI)"
   ]
  },
  {
   "cell_type": "code",
   "execution_count": 13,
   "id": "b4590d04",
   "metadata": {},
   "outputs": [],
   "source": [
    "part_1_test = np.linalg.pinv(np.matmul(trainval_vec, trainval_vec.transpose()) + (10**alph1)*np.eye(d_trainval))\n",
    "\n",
    "part_0_test = np.matmul(np.matmul(trainval_vec,gt_trainval),trainval_sig.transpose())\n",
    "\n",
    "part_2_test = np.linalg.pinv(np.matmul(trainval_sig, trainval_sig.transpose()) + (10**gamm1)*np.eye(a_trainval))\n",
    "\n",
    "W = np.matmul(np.matmul(part_1_test,part_0_test),part_2_test)"
   ]
  },
  {
   "cell_type": "markdown",
   "id": "8f1f8392",
   "metadata": {},
   "source": [
    "# For inference stage,\n",
    "\n",
    "argmax(x'VS)\n",
    "\n",
    "Where S is the signature matrix of the test_set"
   ]
  },
  {
   "cell_type": "markdown",
   "id": "07138e7c",
   "metadata": {},
   "source": [
    "# For test seen classes"
   ]
  },
  {
   "cell_type": "code",
   "execution_count": 14,
   "id": "abd09a2b",
   "metadata": {},
   "outputs": [],
   "source": [
    "#predictions\n",
    "outputs_1 = np.matmul(np.matmul(test_seen_vec.transpose(), W), test_seen_sig)\n",
    "preds_1 = np.array([np.argmax(output) for output in outputs_1])"
   ]
  },
  {
   "cell_type": "code",
   "execution_count": 15,
   "id": "2fe9716f",
   "metadata": {},
   "outputs": [
    {
     "name": "stdout",
     "output_type": "stream",
     "text": [
      "The top 1% accuracy is: 28.217054263565895\n"
     ]
    }
   ],
   "source": [
    "cm = confusion_matrix(labels_test_seen, preds_1)\n",
    "cm = cm.astype('float') / cm.sum(axis=1)[:, np.newaxis]\n",
    "avg = sum(cm.diagonal())/len(test_labels_seen)\n",
    "acc_seen = avg*100\n",
    "print(\"The top 1% accuracy is:\", acc_seen)"
   ]
  },
  {
   "cell_type": "markdown",
   "id": "e1039c51",
   "metadata": {},
   "source": [
    "# For test unseen classes"
   ]
  },
  {
   "cell_type": "code",
   "execution_count": 16,
   "id": "e0f35928",
   "metadata": {},
   "outputs": [],
   "source": [
    "#predictions\n",
    "outputs_2 = np.matmul(np.matmul(test_unseen_vec.transpose(), W), test_unseen_sig)\n",
    "preds_2 = np.array([np.argmax(output) for output in outputs_2])"
   ]
  },
  {
   "cell_type": "code",
   "execution_count": 17,
   "id": "88bbb938",
   "metadata": {},
   "outputs": [
    {
     "name": "stdout",
     "output_type": "stream",
     "text": [
      "The top 1% accuracy is: 47.98611111111111\n"
     ]
    }
   ],
   "source": [
    "cm = confusion_matrix(labels_test_unseen, preds_2)\n",
    "cm = cm.astype('float') / cm.sum(axis=1)[:, np.newaxis]\n",
    "avg = sum(cm.diagonal())/len(test_labels_unseen)\n",
    "acc_unseen = avg*100\n",
    "print(\"The top 1% accuracy is:\", acc_unseen)"
   ]
  },
  {
   "cell_type": "markdown",
   "id": "7519e8eb",
   "metadata": {},
   "source": [
    "# Harmonic mean of seen and unseen accuracies"
   ]
  },
  {
   "cell_type": "code",
   "execution_count": 18,
   "id": "e56d4da7",
   "metadata": {},
   "outputs": [
    {
     "name": "stdout",
     "output_type": "stream",
     "text": [
      "35.537282328423586\n"
     ]
    }
   ],
   "source": [
    "acc_h = (2 * acc_seen * acc_unseen) / (acc_seen + acc_unseen)\n",
    "print(acc_h)"
   ]
  },
  {
   "cell_type": "markdown",
   "id": "150cf53e",
   "metadata": {},
   "source": [
    "# to find the best hyper-parameter"
   ]
  },
  {
   "cell_type": "code",
   "execution_count": null,
   "id": "77d2b791",
   "metadata": {},
   "outputs": [],
   "source": [
    "train_loc = np.squeeze(att_splits['train_loc']-1)\n",
    "val_loc = np.squeeze(att_splits['val_loc']-1)\n",
    "\n",
    "labels = res101['labels']\n",
    "labels_train = labels[train_loc]\n",
    "labels_val = labels[val_loc]\n",
    "\n",
    "train_labels_seen = np.unique(labels_train)\n",
    "val_labels_unseen = np.unique(labels_val)\n",
    "\n",
    "print(\"Number of overlapping classes between train and val:\",len(set(train_labels_seen).intersection(set(val_labels_unseen))))\n",
    "\n",
    "i = 0\n",
    "for labels in train_labels_seen:\n",
    "    labels_train[labels_train == labels] = i    \n",
    "    i = i+1\n",
    "j = 0\n",
    "for labels in val_labels_unseen:\n",
    "    labels_val[labels_val == labels] = j\n",
    "    j = j+1\n",
    "\n",
    "train_vec = X_features[:, train_loc]\n",
    "val_vec = X_features[:, val_loc]\n",
    "\n",
    "print(\"Features for train:\", train_vec.shape)\n",
    "print(\"Features for val:\", val_vec.shape)\n",
    "\n",
    "train_mean = train_vec.mean(axis=1, keepdims=True)\n",
    "train_std = np.std(train_vec, axis=1, keepdims = True)\n",
    "\n",
    "#train_vec = normalization(train_vec, train_mean, train_std)\n",
    "#val_vec = normalization(val_vec, train_mean, train_std)\n",
    "\n",
    "train_sig = signature[:,(train_labels_seen)-1]\n",
    "val_sig = signature[:,(val_labels_unseen)-1]\n",
    "\n",
    "print(\"Signature for train:\", train_sig.shape)\n",
    "print(\"Signature for val:\", val_sig.shape)\n",
    "\n",
    "#params for train and val set\n",
    "m_train = labels_train.shape[0]\n",
    "n_val = labels_val.shape[0]\n",
    "z_train = len(train_labels_seen)\n",
    "z1_val = len(val_labels_unseen)\n",
    "\n",
    "#ground truth for train and val set\n",
    "gt_train = 0*np.ones((m_train, z_train))\n",
    "gt_train[np.arange(m_train), np.squeeze(labels_train)] = 1\n",
    "\n",
    "#train set\n",
    "d_train = train_vec.shape[0]\n",
    "a_train = train_sig.shape[0]\n",
    "\n",
    "#Weights\n",
    "V = np.zeros((d_train,a_train))"
   ]
  },
  {
   "cell_type": "markdown",
   "id": "ba1a7574",
   "metadata": {},
   "source": [
    "# The below code snippet can be used to find the best hyper-parameter using the train and val set."
   ]
  },
  {
   "cell_type": "code",
   "execution_count": null,
   "id": "be610d00",
   "metadata": {},
   "outputs": [],
   "source": [
    "accu = 0.10\n",
    "alph1 = 4\n",
    "gamm1 = 1\n",
    "for alpha in range(-3, 4):\n",
    "    for gamma in range(-3,4):\n",
    "        #One line solution\n",
    "        part_1 = np.linalg.pinv(np.matmul(train_vec, train_vec.transpose()) + (10**alpha)*np.eye(d_train))\n",
    "        part_0 = np.matmul(np.matmul(train_vec,gt_train),train_sig.transpose())\n",
    "        part_2 = np.linalg.pinv(np.matmul(train_sig, train_sig.transpose()) + (10**gamma)*np.eye(a_train))\n",
    "\n",
    "        V = np.matmul(np.matmul(part_1,part_0),part_2)\n",
    "        #print(V)\n",
    "\n",
    "        #predictions\n",
    "        outputs = np.matmul(np.matmul(val_vec.transpose(),V),val_sig)\n",
    "        preds = np.array([np.argmax(output) for output in outputs])\n",
    "\n",
    "        #print(accuracy_score(labels_val,preds))\n",
    "        cm = confusion_matrix(labels_val, preds)\n",
    "        cm = cm.astype('float') / cm.sum(axis=1)[:, np.newaxis]\n",
    "        avg = sum(cm.diagonal())/len(val_labels_unseen)\n",
    "        #print(\"Avg:\", avg, alpha, gamma)\n",
    "\n",
    "        if avg > accu:\n",
    "            accu = avg\n",
    "            alph1 = alpha\n",
    "            gamm1 = gamma\n",
    "print(alph1, gamm1)\n"
   ]
  },
  {
   "cell_type": "markdown",
   "id": "562fab6c",
   "metadata": {},
   "source": [
    "# Implementation Results\n",
    "\n",
    "AWA2 dataset\n",
    "\n",
    "1. Hyperparameters: gamm1 = 3                alph1 = 0\n",
    "without normalization of feature vectors\n",
    "\n",
    "acc_seen = 88.59876114732992           acc_unseen = 45.73846664538193               harmonic mean = 60.331325100921305\n",
    "\n",
    "2. Hyperparameters: gamm1 = 3                alph1 = 0\n",
    "with normalization of feature vectors\n",
    "\n",
    "acc_seen = 79.32389991512959           acc_unseen = 45.85667448938017               harmonic mean = 58.11652926087265\n",
    "\n",
    "\n",
    "3. Hyperparameters: gamm1 = 3                alph1 = 0 (Value got after validation)\n",
    "without normalization of feature vectors\n",
    "\n",
    "acc_seen = 88.59876114732992           acc_unseen = 45.73846664538193               harmonic mean = 60.331325100921305\n",
    "\n",
    "4. Hyperparameters: gamm1 = 3                alph1 = 0 (Value got after validation)\n",
    "with normalization of feature vectors\n",
    "\n",
    "acc_seen = 79.32389991512959           acc_unseen = 45.85667448938017               harmonic mean = 58.11652926087265\n",
    "\n",
    "\n",
    "CUB dataset\n",
    "\n",
    "1. Hyperparameters: gamm1 = 3                alph1 = 0\n",
    "without normalization of feature vectors\n",
    "\n",
    "acc_seen = 57.50188482541427           acc_unseen = 40.1153158858462                harmonic mean = 47.260242190840735\n",
    "\n",
    "2. Hyperparameters: gamm1 = 3                alph1 = 0\n",
    "with normalization of feature vectors\n",
    "\n",
    "acc_seen = 45.08627320392026           acc_unseen = 37.07889831296149               harmonic mean = 40.69240795280468\n",
    "\n",
    "3. Hyperparameters: gamm1 = 3                alph1 = 0 (Value got after validation)\n",
    "without normalization of feature vectors\n",
    "\n",
    "acc_seen = 57.50188482541427           acc_unseen = 40.1153158858462                harmonic mean = 47.260242190840735\n",
    "\n",
    "\n",
    "\n",
    "SUN dataset\n",
    "\n",
    "1. Hyperparameters: gamm1 = 3                alph1 = 0\n",
    "without normalization of feature vectors\n",
    "\n",
    "acc_seen = 28.217054263565895           acc_unseen = 47.98611111111111              harmonic mean = 35.537282328423586\n",
    "\n",
    "\n"
   ]
  }
 ],
 "metadata": {
  "kernelspec": {
   "display_name": "Python 3 (ipykernel)",
   "language": "python",
   "name": "python3"
  },
  "language_info": {
   "codemirror_mode": {
    "name": "ipython",
    "version": 3
   },
   "file_extension": ".py",
   "mimetype": "text/x-python",
   "name": "python",
   "nbconvert_exporter": "python",
   "pygments_lexer": "ipython3",
   "version": "3.9.18"
  }
 },
 "nbformat": 4,
 "nbformat_minor": 5
}
